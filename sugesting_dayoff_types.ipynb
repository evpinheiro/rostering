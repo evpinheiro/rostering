{
 "cells": [
  {
   "cell_type": "code",
   "execution_count": 1,
   "metadata": {},
   "outputs": [],
   "source": [
    "import pyomo.environ as pe\n",
    "import pyomo.opt\n",
    "import pyomo"
   ]
  },
  {
   "cell_type": "code",
   "execution_count": 8,
   "metadata": {},
   "outputs": [
    {
     "name": "stdout",
     "output_type": "stream",
     "text": [
      "y[corridas+folguistas] + x[alternadas] + x[domingo]\n",
      "423.0  <=  x[corridas] + x[alternadas] + x[domingo]\n",
      "322.0  <=  x[corridas] + y[alternadas_metade] + x[domingo]\n",
      "269.0  <=  x[corridas] + y[alternadas_metade]\n",
      "x : Size=3, Index=x_index\n",
      "    Key        : Lower : Value : Upper : Fixed : Stale : Domain\n",
      "    alternadas :     1 : 202.0 :  None : False : False : PositiveIntegers\n",
      "      corridas :     1 : 168.0 :  None : False : False : PositiveIntegers\n",
      "       domingo :     1 :  53.0 :  None : False : False : PositiveIntegers\n",
      "y : Size=2, Index=y_index\n",
      "    Key                 : Lower : Value : Upper : Fixed : Stale : Domain\n",
      "      alternadas_metade :     1 : 101.0 :  None : False : False : PositiveIntegers\n",
      "    corridas+folguistas :     1 : 202.0 :  None : False : False : PositiveIntegers\n",
      "# ==========================================================\n",
      "# = Solver Results                                         =\n",
      "# ==========================================================\n",
      "# ----------------------------------------------------------\n",
      "#   Problem Information\n",
      "# ----------------------------------------------------------\n",
      "Problem: \n",
      "- Name: unknown\n",
      "  Lower bound: 457.0\n",
      "  Upper bound: 457.0\n",
      "  Number of objectives: 1\n",
      "  Number of constraints: 6\n",
      "  Number of variables: 6\n",
      "  Number of nonzeros: 13\n",
      "  Sense: minimize\n",
      "# ----------------------------------------------------------\n",
      "#   Solver Information\n",
      "# ----------------------------------------------------------\n",
      "Solver: \n",
      "- Status: ok\n",
      "  User time: -1.0\n",
      "  Termination condition: optimal\n",
      "  Error rc: 0\n",
      "  Time: 0.016593217849731445\n",
      "# ----------------------------------------------------------\n",
      "#   Solution Information\n",
      "# ----------------------------------------------------------\n",
      "Solution: \n",
      "- number of solutions: 0\n",
      "  number of solutions displayed: 0\n"
     ]
    }
   ],
   "source": [
    "U = 423\n",
    "S = 322\n",
    "D = 269\n",
    "\n",
    "modelo = pe.ConcreteModel(name=\"tipos de folgas\")\n",
    "modelo.x = pe.Var(['corridas', 'alternadas', 'domingo'], within=pe.PositiveIntegers)\n",
    "modelo.y = pe.Var(['corridas+folguistas', 'alternadas_metade'], within=pe.PositiveIntegers)\n",
    "def objetivo(m):\n",
    "    return m.y['corridas+folguistas'] + m.x['alternadas'] + m.x['domingo']\n",
    "modelo.obj = pe.Objective(rule=objetivo, sense=pe.minimize)\n",
    "def coberturaU(m):\n",
    "    return m.x['corridas'] + m.x['alternadas'] + m.x['domingo'] >= U\n",
    "modelo.coverU = pe.Constraint(rule=coberturaU)\n",
    "def coberturaS(m):\n",
    "    return m.x['corridas'] + m.y['alternadas_metade'] + m.x['domingo'] >= S\n",
    "modelo.coverS = pe.Constraint(rule=coberturaS)\n",
    "def coberturaD(m):\n",
    "    return m.x['corridas'] + m.y['alternadas_metade'] >= D\n",
    "modelo.coverD = pe.Constraint(rule=coberturaD)\n",
    "def alternadas_pares(m):\n",
    "    return m.x['alternadas'] == 2*m.y['alternadas_metade']\n",
    "modelo.alternadasPares = pe.Constraint(rule=alternadas_pares)\n",
    "def corridas_qtd_motoristas(m):\n",
    "    return 6*m.x['corridas'] <= 5*m.y['corridas+folguistas']\n",
    "modelo.corridasMotoristas = pe.Constraint(rule=corridas_qtd_motoristas)\n",
    "solver = pyomo.opt.SolverFactory('cbc')\n",
    "results = solver.solve(modelo)\n",
    "print(objetivo(modelo))\n",
    "print(coberturaU(modelo))\n",
    "print(coberturaS(modelo))\n",
    "print(coberturaD(modelo))\n",
    "modelo.x.display()\n",
    "modelo.y.display()\n",
    "results.write()"
   ]
  }
 ],
 "metadata": {
  "kernelspec": {
   "display_name": "Python 3",
   "language": "python",
   "name": "python3"
  },
  "language_info": {
   "codemirror_mode": {
    "name": "ipython",
    "version": 3
   },
   "file_extension": ".py",
   "mimetype": "text/x-python",
   "name": "python",
   "nbconvert_exporter": "python",
   "pygments_lexer": "ipython3",
   "version": "3.6.7"
  }
 },
 "nbformat": 4,
 "nbformat_minor": 2
}
